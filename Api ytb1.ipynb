{
 "cells": [
  {
   "cell_type": "code",
   "execution_count": null,
   "metadata": {},
   "outputs": [],
   "source": [
    "import sqlite3\n",
    "import pandas as pd\n",
    "\n",
    "# Leitura do arquivo CSV\n",
    "df = pd.read_csv(\"C:/Users/Edgge7/Downloads/videos_dataset.csv\")\n",
    "\n",
    "# Conexão com o banco de dados SQLite\n",
    "conn = sqlite3.connect('C:/Users/Edgge7/Downloads/dados_videos.db')\n",
    "\n",
    "# Salvar DataFrame no banco de dados SQLite\n",
    "df.to_sql('videos', conn, if_exists='replace', index=False)\n",
    "\n",
    "# Fechar conexão com o banco de dados\n",
    "conn.close()\n"
   ]
  },
  {
   "cell_type": "code",
   "execution_count": null,
   "metadata": {},
   "outputs": [],
   "source": []
  },
  {
   "cell_type": "code",
   "execution_count": 1,
   "metadata": {},
   "outputs": [
    {
     "name": "stdout",
     "output_type": "stream",
     "text": [
      "A tabela 'videos' foi criada com sucesso.\n",
      "\n",
      "Colunas na tabela 'videos':\n",
      "video_id\n",
      "channelTitle\n",
      "title\n",
      "description\n",
      "tags\n",
      "publishedAt\n",
      "viewCount\n",
      "likeCount\n",
      "favouriteCount\n",
      "commentCount\n",
      "duration\n",
      "definition\n",
      "caption\n"
     ]
    }
   ],
   "source": [
    "import sqlite3\n",
    "\n",
    "# Conexão com o banco de dados SQLite\n",
    "conn = sqlite3.connect('C:/Users/Edgge7/Downloads/dados_videos.db')\n",
    "cursor = conn.cursor()\n",
    "\n",
    "# Verificar se a tabela foi criada\n",
    "cursor.execute(\"SELECT name FROM sqlite_master WHERE type='table' AND name='videos'\")\n",
    "tabela_existe = cursor.fetchone()\n",
    "if tabela_existe:\n",
    "    print(\"A tabela 'videos' foi criada com sucesso.\")\n",
    "else:\n",
    "    print(\"A tabela 'videos' não foi encontrada.\")\n",
    "\n",
    "# Verificar as colunas na tabela\n",
    "if tabela_existe:\n",
    "    cursor.execute(\"PRAGMA table_info(videos)\")\n",
    "    colunas = cursor.fetchall()\n",
    "    print(\"\\nColunas na tabela 'videos':\")\n",
    "    for coluna in colunas:\n",
    "        print(coluna[1])\n",
    "\n",
    "# Fechar a conexão com o banco de dados\n",
    "conn.close()\n"
   ]
  },
  {
   "cell_type": "code",
   "execution_count": null,
   "metadata": {},
   "outputs": [],
   "source": [
    "from flask import Flask, jsonify\n",
    "import sqlite3\n",
    "import logging\n",
    "\n",
    "app = Flask(__name__)\n",
    "\n",
    "# Rota para obter todos os vídeos\n",
    "@app.route('/videos', methods=['GET'])\n",
    "def get_videos():\n",
    "    conn = sqlite3.connect('C:/Users/Edgge7/Downloads/dados_videos.db')\n",
    "    cursor = conn.cursor()\n",
    "    cursor.execute(\"SELECT * FROM videos\")\n",
    "    videos = cursor.fetchall()\n",
    "    conn.close()\n",
    "    return jsonify(videos)\n",
    "\n",
    "# Rota para obter um vídeo por ID\n",
    "@app.route('/videos/<int:video_id>', methods=['GET'])\n",
    "def get_video(video_id):\n",
    "    conn = sqlite3.connect('C:/Users/Edgge7/Downloads/dados_videos.db')\n",
    "    cursor = conn.cursor()\n",
    "    cursor.execute(\"SELECT * FROM videos WHERE video_id = ?\", (video_id,))\n",
    "    video = cursor.fetchone()\n",
    "    conn.close()\n",
    "    if video:\n",
    "        return jsonify(video)\n",
    "    else:\n",
    "        return jsonify({\"message\": \"Vídeo não encontrado\"}), 404\n",
    "    \n",
    "# Rota para buscar vídeos por tag\n",
    "@app.route('/videos/tag/<string:tag>', methods=['GET'])\n",
    "def get_videos_by_tag(tag):\n",
    "    conn = sqlite3.connect('C:/Users/Edgge7/Downloads/dados_videos.db')\n",
    "    cursor = conn.cursor()\n",
    "    cursor.execute(\"SELECT * FROM videos WHERE tags LIKE ?\", ('%' + tag + '%',))\n",
    "    videos = cursor.fetchall()\n",
    "    conn.close()\n",
    "    if videos:\n",
    "        return jsonify(videos)\n",
    "    else:\n",
    "        return jsonify({\"message\": \"Nenhum vídeo encontrado para a tag especificada\"}), 404\n",
    "    \n",
    "# Rota para buscar vídeos por data de publicação\n",
    "@app.route('/videos/published_at/<string:date>', methods=['GET'])\n",
    "def get_videos_by_published_at(date):\n",
    "    conn = sqlite3.connect('C:/Users/Edgge7/Downloads/dados_videos.db')\n",
    "    cursor = conn.cursor()\n",
    "    cursor.execute(\"SELECT * FROM videos WHERE publishedAt LIKE ?\", ('%' + date + '%',))\n",
    "    videos = cursor.fetchall()\n",
    "    conn.close()\n",
    "    if videos:\n",
    "        return jsonify(videos)\n",
    "    else:\n",
    "        return jsonify({\"message\": \"Nenhum vídeo encontrado para a data de publicação especificada\"}), 404\n",
    "\n",
    "# Configurar o logger do Flask\n",
    "app.logger.setLevel(logging.INFO)\n",
    "\n",
    "# Lidar com erros de consulta\n",
    "@app.errorhandler(500)\n",
    "def internal_server_error(e):\n",
    "    app.logger.error('Erro interno do servidor: %s', e)\n",
    "    return jsonify({'error': 'Erro interno do servidor'}), 500\n",
    "\n",
    "if __name__ == '__main__':\n",
    "    app.run(debug=True, host='0.0.0.0', port=8000, use_reloader=False) #caso não funcione com esse ip, acesse o prompt de comando e use o comando ipconfig e pegue o seu ip local \n",
    "    #experimente trocar a porta\n"
   ]
  },
  {
   "cell_type": "code",
   "execution_count": null,
   "metadata": {},
   "outputs": [],
   "source": [
    "%tb"
   ]
  },
  {
   "cell_type": "code",
   "execution_count": null,
   "metadata": {},
   "outputs": [],
   "source": [
    "import os\n",
    "\n",
    "diretorio_atual = os.getcwd()\n",
    "print(\"Diretório atual:\", diretorio_atual)\n"
   ]
  },
  {
   "cell_type": "code",
   "execution_count": 6,
   "metadata": {},
   "outputs": [],
   "source": [
    "import sqlite3\n",
    "\n",
    "conn = sqlite3.connect('dados_videos.db')\n",
    "cursor = conn.cursor()\n",
    "\n",
    "# Consulta para verificar se há registros na tabela 'videos'\n",
    "cursor.execute(\"SELECT * FROM videos\")\n",
    "rows = cursor.fetchall()\n",
    "\n",
    "# Exibir os registros\n",
    "for row in rows:\n",
    "    print(row)\n",
    "\n",
    "conn.close()\n"
   ]
  }
 ],
 "metadata": {
  "kernelspec": {
   "display_name": "Python 3",
   "language": "python",
   "name": "python3"
  },
  "language_info": {
   "codemirror_mode": {
    "name": "ipython",
    "version": 3
   },
   "file_extension": ".py",
   "mimetype": "text/x-python",
   "name": "python",
   "nbconvert_exporter": "python",
   "pygments_lexer": "ipython3",
   "version": "3.12.2"
  }
 },
 "nbformat": 4,
 "nbformat_minor": 2
}
